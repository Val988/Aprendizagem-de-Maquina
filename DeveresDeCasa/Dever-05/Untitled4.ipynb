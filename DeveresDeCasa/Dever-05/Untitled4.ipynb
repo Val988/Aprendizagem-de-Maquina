{
  "nbformat": 4,
  "nbformat_minor": 0,
  "metadata": {
    "colab": {
      "provenance": [],
      "authorship_tag": "ABX9TyPKhBXqPGYU39nIcXZOLLh0",
      "include_colab_link": true
    },
    "kernelspec": {
      "name": "python3",
      "display_name": "Python 3"
    },
    "language_info": {
      "name": "python"
    }
  },
  "cells": [
    {
      "cell_type": "markdown",
      "metadata": {
        "id": "view-in-github",
        "colab_type": "text"
      },
      "source": [
        "<a href=\"https://colab.research.google.com/github/Val988/Aprendizagem-de-Maquina/blob/main/DeveresDeCasa/Dever-05/Untitled4.ipynb\" target=\"_parent\"><img src=\"https://colab.research.google.com/assets/colab-badge.svg\" alt=\"Open In Colab\"/></a>"
      ]
    },
    {
      "cell_type": "code",
      "execution_count": 1,
      "metadata": {
        "colab": {
          "base_uri": "https://localhost:8080/"
        },
        "id": "amGVFiemkAQy",
        "outputId": "b9139357-543f-4a5a-f8fc-1992e66af3b2"
      },
      "outputs": [
        {
          "output_type": "stream",
          "name": "stdout",
          "text": [
            "Digite as 4 características da flor:\n",
            "Comprimento da sépala (cm): 100\n",
            "Largura da sépala (cm): 10\n",
            "Comprimento da pétala (cm): 20\n",
            "Largura da pétala (cm): 30\n",
            "A flor prevista é: virginica\n"
          ]
        }
      ],
      "source": [
        "# 1. Importar bibliotecas necessárias\n",
        "from sklearn.datasets import load_iris\n",
        "from sklearn.model_selection import train_test_split\n",
        "from sklearn.neighbors import KNeighborsClassifier\n",
        "\n",
        "# 2. Carregar a base de dados Iris\n",
        "iris = load_iris()\n",
        "X = iris.data  # características (features)\n",
        "y = iris.target  # rótulos (labels)\n",
        "\n",
        "# 3. Separar em dados de treino e teste\n",
        "X_train, X_test, y_train, y_test = train_test_split(X, y, test_size=0.2, random_state=42)\n",
        "\n",
        "# 4. Treinar o modelo usando KNeighborsClassifier\n",
        "model = KNeighborsClassifier(n_neighbors=3)\n",
        "model.fit(X_train, y_train)\n",
        "\n",
        "# 5. Solicitar ao usuário 4 entradas\n",
        "print(\"Digite as 4 características da flor:\")\n",
        "sepal_length = float(input(\"Comprimento da sépala (cm): \"))\n",
        "sepal_width = float(input(\"Largura da sépala (cm): \"))\n",
        "petal_length = float(input(\"Comprimento da pétala (cm): \"))\n",
        "petal_width = float(input(\"Largura da pétala (cm): \"))\n",
        "\n",
        "# 6. Fazer a previsão\n",
        "entrada = [[sepal_length, sepal_width, petal_length, petal_width]]\n",
        "predicao = model.predict(entrada)\n",
        "nome_flor = iris.target_names[predicao[0]]\n",
        "\n",
        "# 7. Imprimir o nome da flor\n",
        "print(f\"A flor prevista é: {nome_flor}\")"
      ]
    }
  ]
}